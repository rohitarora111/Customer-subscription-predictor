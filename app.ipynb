{
  "nbformat": 4,
  "nbformat_minor": 0,
  "metadata": {
    "colab": {
      "name": "app.ipynb",
      "provenance": [],
      "collapsed_sections": []
    },
    "kernelspec": {
      "name": "python3",
      "display_name": "Python 3"
    },
    "language_info": {
      "name": "python"
    }
  },
  "cells": [
    {
      "cell_type": "code",
      "metadata": {
        "id": "18sbVa_U4_qg"
      },
      "source": [
        "import flask\n",
        "import pickle\n",
        "from flask import Flask , render_template , request"
      ],
      "execution_count": 1,
      "outputs": []
    },
    {
      "cell_type": "code",
      "metadata": {
        "colab": {
          "base_uri": "https://localhost:8080/"
        },
        "id": "-RTeYXnm5sXN",
        "outputId": "d98b9e9e-7231-4703-ef31-56356edd884a"
      },
      "source": [
        "!pip install flask-ngrok\n",
        "from flask_ngrok import run_with_ngrok"
      ],
      "execution_count": 2,
      "outputs": [
        {
          "output_type": "stream",
          "text": [
            "Collecting flask-ngrok\n",
            "  Downloading https://files.pythonhosted.org/packages/af/6c/f54cb686ad1129e27d125d182f90f52b32f284e6c8df58c1bae54fa1adbc/flask_ngrok-0.0.25-py3-none-any.whl\n",
            "Requirement already satisfied: requests in /usr/local/lib/python3.7/dist-packages (from flask-ngrok) (2.23.0)\n",
            "Requirement already satisfied: Flask>=0.8 in /usr/local/lib/python3.7/dist-packages (from flask-ngrok) (1.1.4)\n",
            "Requirement already satisfied: idna<3,>=2.5 in /usr/local/lib/python3.7/dist-packages (from requests->flask-ngrok) (2.10)\n",
            "Requirement already satisfied: urllib3!=1.25.0,!=1.25.1,<1.26,>=1.21.1 in /usr/local/lib/python3.7/dist-packages (from requests->flask-ngrok) (1.24.3)\n",
            "Requirement already satisfied: chardet<4,>=3.0.2 in /usr/local/lib/python3.7/dist-packages (from requests->flask-ngrok) (3.0.4)\n",
            "Requirement already satisfied: certifi>=2017.4.17 in /usr/local/lib/python3.7/dist-packages (from requests->flask-ngrok) (2020.12.5)\n",
            "Requirement already satisfied: itsdangerous<2.0,>=0.24 in /usr/local/lib/python3.7/dist-packages (from Flask>=0.8->flask-ngrok) (1.1.0)\n",
            "Requirement already satisfied: Werkzeug<2.0,>=0.15 in /usr/local/lib/python3.7/dist-packages (from Flask>=0.8->flask-ngrok) (1.0.1)\n",
            "Requirement already satisfied: click<8.0,>=5.1 in /usr/local/lib/python3.7/dist-packages (from Flask>=0.8->flask-ngrok) (7.1.2)\n",
            "Requirement already satisfied: Jinja2<3.0,>=2.10.1 in /usr/local/lib/python3.7/dist-packages (from Flask>=0.8->flask-ngrok) (2.11.3)\n",
            "Requirement already satisfied: MarkupSafe>=0.23 in /usr/local/lib/python3.7/dist-packages (from Jinja2<3.0,>=2.10.1->Flask>=0.8->flask-ngrok) (2.0.1)\n",
            "Installing collected packages: flask-ngrok\n",
            "Successfully installed flask-ngrok-0.0.25\n"
          ],
          "name": "stdout"
        }
      ]
    },
    {
      "cell_type": "code",
      "metadata": {
        "id": "M3dRMyGR51U3"
      },
      "source": [
        "app=Flask(__name__,template_folder='/', static_folder='/content/drive/MyDrive/customer subscripton/static')\n",
        "run_with_ngrok(app)\n",
        "import numpy as np\n",
        "model = pickle.load(open('/content/drive/MyDrive/customer subscripton/model.pkl','rb'))\n",
        "sc=pickle.load(open('/content/drive/MyDrive/customer subscripton/scaler.pkl','rb'))\n",
        "@app.route('/')\n",
        "def index():\n",
        "  return render_template('/content/drive/MyDrive/customer subscripton/static/index.html')\n",
        "\n",
        "@app.route('/predict',methods = ['POST', 'GET'])\n",
        "def predict():\n",
        "  if(request.method=='POST'):\n",
        "    in_here=\"Yes it's here\"\n",
        "    age=int(request.form['age'])\n",
        "    duration=int(request.form['duration'])\n",
        "    campaign=int(request.form['camp'])\n",
        "    previous=int(request.form['previous'])\n",
        "    pout=int(request.form['poutcome'])\n",
        "    emp=int(request.form['emp.var.rate'])\n",
        "    consprice=int(request.form['cons.price.idx'])\n",
        "    consconf=int(request.form['cons.conf.idx'])\n",
        "    euri=int(request.form['euriborm'])\n",
        "    nremploy=int(request.form['nr.employed']) \n",
        "    education=int(request.form['education'])\n",
        "    job=request.form['job']\n",
        "    marital=request.form['marital']\n",
        "    contact=request.form['contact']\n",
        "    day=request.form['dayofweek']\n",
        "\n",
        "    x=np.zeros(31)\n",
        "\n",
        "    x[0]=age\n",
        "    x[1]=education\n",
        "    x[2]=contact\n",
        "    x[3]=duration\n",
        "    x[4]=campaign\n",
        "    x[5]=previous\n",
        "    x[6]=pout\n",
        "    x[7]=emp\n",
        "    x[8]=consprice\n",
        "    x[9]=consconf\n",
        "    x[10]=euri\n",
        "    x[11]=nremploy\n",
        "    if (job=='admin'):\n",
        "      x[12]=1\n",
        "    if (job=='blue-collar'):\n",
        "      x[13]=1\n",
        "    if (job=='entrepreneur'):\n",
        "      x[14]=1\n",
        "    if (job=='housemaid'):\n",
        "      x[15]=1\n",
        "    if (job=='management'):\n",
        "      x[16]=1\n",
        "    if (job == ' retired'):\n",
        "      x[17]=1\n",
        "    if (job=='self-employed'):\n",
        "      x[18]=1\n",
        "    if (job=='service'):\n",
        "      x[19]=1\n",
        "    if (job=='student'):\n",
        "      x[20]=1\n",
        "    elif (job =='technician'):\n",
        "      x[21]=1\n",
        "    elif (job == 'unemployed'):\n",
        "      x[22]=1\n",
        "\n",
        "    if (marital =='divorced'):\n",
        "      x[23]=1\n",
        "    elif (marital=='married'):\n",
        "      x[24]=1\n",
        "    elif (mariial == 'single'):\n",
        "      x[25]=1\n",
        "\n",
        "    if (day == 'fri' ):\n",
        "      x[26]=1\n",
        "    elif (day == 'mon'):\n",
        "      x[27]=1\n",
        "    elif (day=='thu'):\n",
        "      x[28]=1\n",
        "    elif (day=='tue'):\n",
        "      x[29]=1\n",
        "    elif (day =='wed'):\n",
        "      x[30]=1\n",
        "    x=[x]\n",
        "    x=sc.transform(x)\n",
        "    x=model.predict(x)[0]\n",
        "    print(x)\n",
        "    print(type(x))\n",
        "    if(x==1):\n",
        "      final='I am 93.4% sure, this guy can become a subscriber if contacted by an agent'\n",
        "      return render_template('/content/drive/MyDrive/customer subscripton/static/index.html',final_yes=final)\n",
        "    if(x==0):\n",
        "      final='Am only 6.6% sure if this person will subscribe'\n",
        "    return render_template('/content/drive/MyDrive/customer subscripton/static/index.html',final_No=final)\n"
      ],
      "execution_count": 69,
      "outputs": []
    },
    {
      "cell_type": "code",
      "metadata": {
        "colab": {
          "base_uri": "https://localhost:8080/"
        },
        "id": "NWuq7soBAyFq",
        "outputId": "bd9e2f26-614d-4068-873c-cec38eef863e"
      },
      "source": [
        "if __name__=='__main__':\n",
        "  app.run()\n",
        "  "
      ],
      "execution_count": 70,
      "outputs": [
        {
          "output_type": "stream",
          "text": [
            " * Serving Flask app \"__main__\" (lazy loading)\n",
            " * Environment: production\n",
            "\u001b[31m   WARNING: This is a development server. Do not use it in a production deployment.\u001b[0m\n",
            "\u001b[2m   Use a production WSGI server instead.\u001b[0m\n",
            " * Debug mode: off\n"
          ],
          "name": "stdout"
        },
        {
          "output_type": "stream",
          "text": [
            " * Running on http://127.0.0.1:5000/ (Press CTRL+C to quit)\n"
          ],
          "name": "stderr"
        },
        {
          "output_type": "stream",
          "text": [
            " * Running on http://c52e9114987b.ngrok.io\n",
            " * Traffic stats available on http://127.0.0.1:4040\n"
          ],
          "name": "stdout"
        },
        {
          "output_type": "stream",
          "text": [
            "127.0.0.1 - - [03/Jun/2021 03:36:48] \"\u001b[37mGET / HTTP/1.1\u001b[0m\" 200 -\n",
            "127.0.0.1 - - [03/Jun/2021 03:36:49] \"\u001b[33mGET /favicon.ico HTTP/1.1\u001b[0m\" 404 -\n",
            "127.0.0.1 - - [03/Jun/2021 03:36:57] \"\u001b[37mPOST /predict HTTP/1.1\u001b[0m\" 200 -\n"
          ],
          "name": "stderr"
        },
        {
          "output_type": "stream",
          "text": [
            "0\n",
            "<class 'numpy.int64'>\n"
          ],
          "name": "stdout"
        },
        {
          "output_type": "stream",
          "text": [
            "127.0.0.1 - - [03/Jun/2021 03:37:02] \"\u001b[37mPOST /predict HTTP/1.1\u001b[0m\" 200 -\n"
          ],
          "name": "stderr"
        },
        {
          "output_type": "stream",
          "text": [
            "0\n",
            "<class 'numpy.int64'>\n"
          ],
          "name": "stdout"
        }
      ]
    },
    {
      "cell_type": "code",
      "metadata": {
        "id": "9ZCCkbvA0mI3"
      },
      "source": [
        ""
      ],
      "execution_count": null,
      "outputs": []
    }
  ]
}